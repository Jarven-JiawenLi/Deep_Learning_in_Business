{
  "cells": [
    {
      "cell_type": "markdown",
      "metadata": {
        "id": "24X_Twqbsd11"
      },
      "source": [
        "## MMAI 5500 Assignment 2"
      ]
    },
    {
      "cell_type": "markdown",
      "metadata": {
        "id": "J0MlGzOgsjOo"
      },
      "source": [
        "Jiawen Li"
      ]
    },
    {
      "cell_type": "code",
      "execution_count": 1,
      "metadata": {
        "id": "sSEbCuq3m5f5"
      },
      "outputs": [],
      "source": [
        "pip install -q datasets transformers evaluate timm albumentations"
      ]
    },
    {
      "cell_type": "code",
      "execution_count": 2,
      "metadata": {
        "colab": {
          "base_uri": "https://localhost:8080/",
          "height": 387,
          "referenced_widgets": [
            "fdad067b54424ef19185baf7cd3e67da",
            "3e9165bfd1524b21a683eaefe332fe8a",
            "23257099f6534ffcb402a75c82922227",
            "204c272ce1c443d391659c603ed9aa7d",
            "9c24f0f667e5446b90bba9675c93393f",
            "bb4bb0749988404da5ddd2e7007d7e08",
            "3aa24ef8a1e044dbbc1ecb1d1d00fa89",
            "7264347503da479280e1e9f42aca78b7",
            "5ad120fcbdc0475c9219520078528d66",
            "a3d98bb961064722b63bdee7b3a1d99e",
            "4d2d8d52e32a4650ab515f0c9b8af8d9",
            "73ab04cffc2947f3940f84d80f241101",
            "a0736d9e60ab4c0f8e9a3a57a6f1cb62",
            "473cded8f56b41fda1453a6982cdfebb",
            "408d867ea38d417f942a96fd2226c9d7",
            "b9c132f72faf4bcab06e9f8311d3949b",
            "aea9b9e56b2346f48b7e17a401a9485f"
          ]
        },
        "id": "knprUYzzYffb",
        "outputId": "e1b882c1-0fb8-4623-f0d1-29858b5f3950"
      },
      "outputs": [
        {
          "data": {
            "application/vnd.jupyter.widget-view+json": {
              "model_id": "fdad067b54424ef19185baf7cd3e67da",
              "version_major": 2,
              "version_minor": 0
            },
            "text/plain": [
              "VBox(children=(HTML(value='<center> <img\\nsrc=https://huggingface.co/front/assets/huggingface_logo-noborder.sv…"
            ]
          },
          "metadata": {},
          "output_type": "display_data"
        }
      ],
      "source": [
        "from huggingface_hub import notebook_login\n",
        "\n",
        "notebook_login()"
      ]
    },
    {
      "cell_type": "markdown",
      "metadata": {
        "id": "JCAo5q9Go-w0"
      },
      "source": [
        "#### Read the COCO formatted annotations to a dict"
      ]
    },
    {
      "cell_type": "code",
      "execution_count": 3,
      "metadata": {
        "id": "SW8HVpXPnjjl"
      },
      "outputs": [],
      "source": [
        "import json\n",
        "with open('/content/MMAI_5500_A2/result.json') as f:\n",
        "  cocodata = json.load(f)"
      ]
    },
    {
      "cell_type": "markdown",
      "metadata": {
        "id": "IilF4KaVpDBx"
      },
      "source": [
        "#### Convert the COCO formatted dict to a format readable by dataset.load_dataset()."
      ]
    },
    {
      "cell_type": "code",
      "execution_count": 4,
      "metadata": {
        "id": "XkEJuUGDohXj"
      },
      "outputs": [],
      "source": [
        "# Store Huggingface formated data in a list\n",
        "huggingdata = []\n",
        "# Iterate through the images\n",
        "for image in cocodata['images']:\n",
        "  # Remove the image directory from the file name\n",
        "  image['file_name'] = image['file_name'].split('/')[-1]\n",
        "  image['image_id'] = image['id']\n",
        "  # Extend the image dict with bounding boxes and class labels\n",
        "  image['objects'] = {'bbox': [], 'category': [], 'area': [], 'id': []}\n",
        "  # Iterate through the annotations (bounding boxes and labels)\n",
        "  for annot in cocodata['annotations']:\n",
        "    # Check if the annotation matches the image\n",
        "    if annot['image_id'] == image['id']:\n",
        "      # Add the annotation\n",
        "      image['objects']['bbox'].append(annot['bbox'])\n",
        "      image['objects']['category'].append(annot['category_id'])\n",
        "      image['objects']['area'].append(annot['area'])\n",
        "      image['objects']['id'].append(annot['id'])\n",
        "  # Append the image dict with annotations to the list\n",
        "  huggingdata.append(image)"
      ]
    },
    {
      "cell_type": "markdown",
      "metadata": {
        "id": "VjHWfJc9o7YO"
      },
      "source": [
        "#### Write the Huggingface formatted annotations to a json file."
      ]
    },
    {
      "cell_type": "code",
      "execution_count": 5,
      "metadata": {
        "id": "AfA6x4WNo44B"
      },
      "outputs": [],
      "source": [
        "with open(\"metadata.jsonl\", 'w') as f:\n",
        "  for item in huggingdata:\n",
        "    f.write(json.dumps(item) + \"\\n\")"
      ]
    },
    {
      "cell_type": "markdown",
      "metadata": {
        "id": "2ilSeosZqeM8"
      },
      "source": [
        "#### Organize the images and metadata.jsonl into the correct folder structure"
      ]
    },
    {
      "cell_type": "code",
      "execution_count": 6,
      "metadata": {
        "id": "sVI-CfIqrrL_"
      },
      "outputs": [],
      "source": [
        "from datasets import load_dataset"
      ]
    },
    {
      "cell_type": "markdown",
      "metadata": {
        "id": "rPEbOiec1Jx6"
      },
      "source": [
        "#### Read the data into a DatasetDict."
      ]
    },
    {
      "cell_type": "code",
      "execution_count": 7,
      "metadata": {
        "id": "HblMjpKovTyf"
      },
      "outputs": [],
      "source": [
        "from datasets import load_dataset\n",
        "candy_data = load_dataset('imagefolder', data_dir=\"/content/MMAI_5500_A2\")"
      ]
    },
    {
      "cell_type": "markdown",
      "metadata": {
        "id": "8AWYUvWovli7"
      },
      "source": [
        "#### Split the candy_data['train'], store the first 10 images as trainning data, and the last one with ID=10 to be the test data for evaluation later."
      ]
    },
    {
      "cell_type": "code",
      "execution_count": 8,
      "metadata": {
        "id": "mOEgR8rKtwee"
      },
      "outputs": [],
      "source": [
        "test_data = 10\n",
        "def split_dataset_specific_test(dataset, test_data):\n",
        "\n",
        "    test = dataset.filter(lambda sample: sample['id'] == test_data)\n",
        "\n",
        "    train = dataset.filter(lambda sample: sample['id'] != test_data)\n",
        "    return train, test\n",
        "\n",
        "# Use the split_dataset_specific_test function\n",
        "train, test = split_dataset_specific_test(candy_data['train'], test_data)"
      ]
    },
    {
      "cell_type": "code",
      "execution_count": 9,
      "metadata": {
        "colab": {
          "base_uri": "https://localhost:8080/"
        },
        "id": "8Ntp4sfK6Oj7",
        "outputId": "9e421c7d-beef-461a-d690-361491577cce"
      },
      "outputs": [
        {
          "data": {
            "text/plain": [
              "(Dataset({\n",
              "     features: ['image', 'width', 'height', 'id', 'image_id', 'objects'],\n",
              "     num_rows: 10\n",
              " }),\n",
              " Dataset({\n",
              "     features: ['image', 'width', 'height', 'id', 'image_id', 'objects'],\n",
              "     num_rows: 1\n",
              " }))"
            ]
          },
          "execution_count": 9,
          "metadata": {},
          "output_type": "execute_result"
        }
      ],
      "source": [
        "train, test"
      ]
    },
    {
      "cell_type": "markdown",
      "metadata": {
        "id": "EDV4drsBEedP"
      },
      "source": [
        "### Preprocess the data"
      ]
    },
    {
      "cell_type": "code",
      "execution_count": 10,
      "metadata": {
        "colab": {
          "base_uri": "https://localhost:8080/"
        },
        "id": "HxOr6sNiC4t0",
        "outputId": "c67f251f-f737-4296-e98f-9f45a3c69be0"
      },
      "outputs": [
        {
          "name": "stderr",
          "output_type": "stream",
          "text": [
            "Could not find image processor class in the image processor config or the model config. Loading based on pattern matching with the model's feature extractor configuration.\n",
            "The `max_size` parameter is deprecated and will be removed in v4.26. Please specify in `size['longest_edge'] instead`.\n"
          ]
        }
      ],
      "source": [
        "from transformers import AutoImageProcessor\n",
        "\n",
        "checkpoint = \"facebook/detr-resnet-50\"\n",
        "image_processor = AutoImageProcessor.from_pretrained(checkpoint)"
      ]
    },
    {
      "cell_type": "markdown",
      "metadata": {
        "id": "VSlToK_YEuA0"
      },
      "source": [
        "To make sure the model does not overfit on the training data, we can apply image augmentation using Albumentations"
      ]
    },
    {
      "cell_type": "code",
      "execution_count": 11,
      "metadata": {
        "id": "o8mJ2x7oD1t9"
      },
      "outputs": [],
      "source": [
        "import albumentations\n",
        "import numpy as np\n",
        "import torch\n",
        "\n",
        "transform = albumentations.Compose(\n",
        "    [\n",
        "        albumentations.Resize(480, 480),\n",
        "        albumentations.HorizontalFlip(p=1.0),\n",
        "        albumentations.RandomBrightnessContrast(p=1.0),\n",
        "    ],\n",
        "    bbox_params=albumentations.BboxParams(format=\"coco\", label_fields=[\"category\"]),\n",
        ")"
      ]
    },
    {
      "cell_type": "code",
      "execution_count": 12,
      "metadata": {
        "id": "8qDBVCf1EoUP"
      },
      "outputs": [],
      "source": [
        "def formatted_anns(image_id, category, area, bbox):\n",
        "    annotations = []\n",
        "    for i in range(0, len(category)):\n",
        "        new_ann = {\n",
        "            \"image_id\": image_id,\n",
        "            \"category_id\": category[i],\n",
        "            \"isCrowd\": 0,\n",
        "            \"area\": area[i],\n",
        "            \"bbox\": list(bbox[i]),\n",
        "        }\n",
        "        annotations.append(new_ann)\n",
        "\n",
        "    return annotations"
      ]
    },
    {
      "cell_type": "markdown",
      "metadata": {
        "id": "rtLKyh9CE-sx"
      },
      "source": [
        "Combine the image and annotation transformations to use on a batch of examples:"
      ]
    },
    {
      "cell_type": "code",
      "execution_count": 13,
      "metadata": {
        "id": "4xdHFIGjE6zU"
      },
      "outputs": [],
      "source": [
        "# transforming a batch\n",
        "def transform_aug_ann(examples):\n",
        "    image_ids = examples[\"image_id\"]\n",
        "    images, bboxes, area, categories = [], [], [], []\n",
        "    for image, objects in zip(examples[\"image\"], examples[\"objects\"]):\n",
        "        image = np.array(image.convert(\"RGB\"))[:, :, ::-1]\n",
        "        out = transform(image=image, bboxes=objects[\"bbox\"], category=objects[\"category\"])\n",
        "\n",
        "        area.append(objects[\"area\"])\n",
        "        images.append(out[\"image\"])\n",
        "        bboxes.append(out[\"bboxes\"])\n",
        "        categories.append(out[\"category\"])\n",
        "\n",
        "    targets = [\n",
        "        {\"image_id\": id_, \"annotations\": formatted_anns(id_, cat_, ar_, box_)}\n",
        "        for id_, cat_, ar_, box_ in zip(image_ids, categories, area, bboxes)\n",
        "    ]\n",
        "\n",
        "    return image_processor(images=images, annotations=targets, return_tensors=\"pt\")"
      ]
    },
    {
      "cell_type": "code",
      "execution_count": 14,
      "metadata": {
        "colab": {
          "base_uri": "https://localhost:8080/"
        },
        "id": "owKC7g5FFMo8",
        "outputId": "7b65caf2-09f7-4759-feff-43f3376bcdd4"
      },
      "outputs": [
        {
          "data": {
            "text/plain": [
              "{'pixel_values': tensor([[[-1.3987, -1.3987, -1.4158,  ..., -1.0390, -1.0562, -1.0733],\n",
              "          [-1.3987, -1.3987, -1.3987,  ..., -1.0390, -1.0562, -1.0733],\n",
              "          [-1.3815, -1.3815, -1.3644,  ..., -1.0390, -1.0562, -1.0562],\n",
              "          ...,\n",
              "          [-1.0219, -1.0219, -1.0048,  ..., -1.9638, -1.9809, -1.9980],\n",
              "          [-1.0390, -1.0390, -1.0219,  ..., -1.9980, -2.0152, -2.0152],\n",
              "          [-1.0562, -1.0562, -1.0390,  ..., -2.0152, -2.0323, -2.0323]],\n",
              " \n",
              "         [[-0.8277, -0.8277, -0.8102,  ..., -0.5126, -0.5301, -0.5476],\n",
              "          [-0.8102, -0.8102, -0.7927,  ..., -0.5126, -0.5301, -0.5476],\n",
              "          [-0.7927, -0.7927, -0.7752,  ..., -0.5126, -0.5301, -0.5301],\n",
              "          ...,\n",
              "          [-0.5476, -0.5476, -0.5476,  ..., -0.6702, -0.6877, -0.6877],\n",
              "          [-0.5651, -0.5651, -0.5651,  ..., -0.7052, -0.7052, -0.7052],\n",
              "          [-0.5826, -0.5826, -0.5651,  ..., -0.7227, -0.7227, -0.7227]],\n",
              " \n",
              "         [[-0.1835, -0.1661, -0.1487,  ...,  0.0953,  0.0779,  0.0605],\n",
              "          [-0.1661, -0.1487, -0.1312,  ...,  0.0953,  0.0779,  0.0605],\n",
              "          [-0.1487, -0.1312, -0.1138,  ...,  0.0953,  0.0779,  0.0779],\n",
              "          ...,\n",
              "          [ 0.0431,  0.0431,  0.0431,  ...,  0.1302,  0.1128,  0.1128],\n",
              "          [ 0.0256,  0.0256,  0.0256,  ...,  0.0953,  0.0953,  0.0953],\n",
              "          [ 0.0082,  0.0082,  0.0256,  ...,  0.0779,  0.0779,  0.0779]]]),\n",
              " 'pixel_mask': tensor([[1, 1, 1,  ..., 1, 1, 1],\n",
              "         [1, 1, 1,  ..., 1, 1, 1],\n",
              "         [1, 1, 1,  ..., 1, 1, 1],\n",
              "         ...,\n",
              "         [1, 1, 1,  ..., 1, 1, 1],\n",
              "         [1, 1, 1,  ..., 1, 1, 1],\n",
              "         [1, 1, 1,  ..., 1, 1, 1]]),\n",
              " 'labels': {'size': tensor([800, 800]), 'image_id': tensor([0]), 'class_labels': tensor([4, 0, 0, 0, 2, 2, 2, 2, 7, 7, 4, 6, 4, 3, 3, 7, 1, 1]), 'boxes': tensor([[0.6181, 0.8062, 0.0972, 0.1564],\n",
              "         [0.5804, 0.4255, 0.0720, 0.0960],\n",
              "         [0.4673, 0.4076, 0.0771, 0.0916],\n",
              "         [0.2638, 0.3473, 0.0854, 0.1005],\n",
              "         [0.5025, 0.3049, 0.0804, 0.1005],\n",
              "         [0.4204, 0.5595, 0.0871, 0.1050],\n",
              "         [0.1549, 0.7850, 0.0955, 0.1184],\n",
              "         [0.6273, 0.5829, 0.0854, 0.1072],\n",
              "         [0.7479, 0.7951, 0.1022, 0.2814],\n",
              "         [0.1566, 0.4925, 0.0955, 0.2032],\n",
              "         [0.8224, 0.5885, 0.1039, 0.1675],\n",
              "         [0.5059, 0.7013, 0.1407, 0.1385],\n",
              "         [0.2948, 0.6321, 0.1005, 0.1385],\n",
              "         [0.3559, 0.8174, 0.0921, 0.2010],\n",
              "         [0.2638, 0.4969, 0.1055, 0.1541],\n",
              "         [0.4673, 0.1508, 0.1072, 0.1362],\n",
              "         [0.7228, 0.3841, 0.0586, 0.1340],\n",
              "         [0.3878, 0.3116, 0.0921, 0.1139]]), 'area': tensor([2848.3967, 1296.9987, 1322.9904, 1609.9076, 1515.1696, 1714.4041,\n",
              "         2119.0095, 1717.1283, 5391.5166, 3638.3313, 3261.8479, 3652.9746,\n",
              "         2609.1267, 3471.9619, 3049.0667, 2738.2263, 1472.8622, 1967.4136]), 'iscrowd': tensor([0, 0, 0, 0, 0, 0, 0, 0, 0, 0, 0, 0, 0, 0, 0, 0, 0, 0]), 'orig_size': tensor([480, 480])}}"
            ]
          },
          "execution_count": 14,
          "metadata": {},
          "output_type": "execute_result"
        }
      ],
      "source": [
        "candy_data[\"train\"] = candy_data[\"train\"].with_transform(transform_aug_ann)\n",
        "candy_data[\"train\"][10]"
      ]
    },
    {
      "cell_type": "markdown",
      "metadata": {
        "id": "y8wzYNDaJiw7"
      },
      "source": [
        " In the final step, create a custom collate_fn to batch images together."
      ]
    },
    {
      "cell_type": "code",
      "execution_count": 15,
      "metadata": {
        "id": "CWn-THeFFoJd"
      },
      "outputs": [],
      "source": [
        "def collate_fn(batch):\n",
        "    pixel_values = [item[\"pixel_values\"] for item in batch]\n",
        "    encoding = image_processor.pad(pixel_values, return_tensors=\"pt\")\n",
        "    labels = [item[\"labels\"] for item in batch]\n",
        "    batch = {}\n",
        "    batch[\"pixel_values\"] = encoding[\"pixel_values\"]\n",
        "    batch[\"pixel_mask\"] = encoding[\"pixel_mask\"]\n",
        "    batch[\"labels\"] = labels\n",
        "    return batch"
      ]
    },
    {
      "cell_type": "markdown",
      "metadata": {
        "id": "nAX9AqhaJ0Sh"
      },
      "source": [
        "### Training the DETR model"
      ]
    },
    {
      "cell_type": "markdown",
      "metadata": {
        "id": "dv13t8mSJ-Dm"
      },
      "source": [
        "Load the model with AutoModelForObjectDetection using the same checkpoint as in the preprocessing."
      ]
    },
    {
      "cell_type": "code",
      "execution_count": 16,
      "metadata": {
        "id": "kImQZ26QK12C"
      },
      "outputs": [],
      "source": [
        "id2label = {item['id']: item['name'] for item in cocodata['categories']}\n",
        "label2id = {v: k for k, v in id2label.items()}"
      ]
    },
    {
      "cell_type": "code",
      "execution_count": 17,
      "metadata": {
        "colab": {
          "base_uri": "https://localhost:8080/"
        },
        "id": "Hm4En1ORKHDD",
        "outputId": "5b83120d-f344-4cee-e9f4-0ccee37bbc4d"
      },
      "outputs": [
        {
          "name": "stderr",
          "output_type": "stream",
          "text": [
            "Some weights of the model checkpoint at facebook/detr-resnet-50 were not used when initializing DetrForObjectDetection: ['model.backbone.conv_encoder.model.layer1.0.downsample.1.num_batches_tracked', 'model.backbone.conv_encoder.model.layer4.0.downsample.1.num_batches_tracked', 'model.backbone.conv_encoder.model.layer2.0.downsample.1.num_batches_tracked', 'model.backbone.conv_encoder.model.layer3.0.downsample.1.num_batches_tracked']\n",
            "- This IS expected if you are initializing DetrForObjectDetection from the checkpoint of a model trained on another task or with another architecture (e.g. initializing a BertForSequenceClassification model from a BertForPreTraining model).\n",
            "- This IS NOT expected if you are initializing DetrForObjectDetection from the checkpoint of a model that you expect to be exactly identical (initializing a BertForSequenceClassification model from a BertForSequenceClassification model).\n",
            "Some weights of DetrForObjectDetection were not initialized from the model checkpoint at facebook/detr-resnet-50 and are newly initialized because the shapes did not match:\n",
            "- class_labels_classifier.weight: found shape torch.Size([92, 256]) in the checkpoint and torch.Size([9, 256]) in the model instantiated\n",
            "- class_labels_classifier.bias: found shape torch.Size([92]) in the checkpoint and torch.Size([9]) in the model instantiated\n",
            "You should probably TRAIN this model on a down-stream task to be able to use it for predictions and inference.\n"
          ]
        }
      ],
      "source": [
        "from transformers import AutoModelForObjectDetection\n",
        "\n",
        "model = AutoModelForObjectDetection.from_pretrained(\n",
        "    checkpoint,\n",
        "    id2label=id2label,\n",
        "    label2id=label2id,\n",
        "    ignore_mismatched_sizes=True,\n",
        ")"
      ]
    },
    {
      "cell_type": "markdown",
      "metadata": {
        "id": "AoVnRPdhKDPS"
      },
      "source": [
        "Define your training hyperparameters in TrainingArguments."
      ]
    },
    {
      "cell_type": "code",
      "execution_count": 18,
      "metadata": {
        "colab": {
          "base_uri": "https://localhost:8080/"
        },
        "id": "XKPXbaGvi1SF",
        "outputId": "00d7d748-8b79-4028-ddf6-1d283b1f40d7"
      },
      "outputs": [
        {
          "name": "stdout",
          "output_type": "stream",
          "text": [
            "Requirement already satisfied: transformers[torch] in /usr/local/lib/python3.10/dist-packages (4.35.1)\n",
            "Requirement already satisfied: filelock in /usr/local/lib/python3.10/dist-packages (from transformers[torch]) (3.13.1)\n",
            "Requirement already satisfied: huggingface-hub<1.0,>=0.16.4 in /usr/local/lib/python3.10/dist-packages (from transformers[torch]) (0.17.3)\n",
            "Requirement already satisfied: numpy>=1.17 in /usr/local/lib/python3.10/dist-packages (from transformers[torch]) (1.23.5)\n",
            "Requirement already satisfied: packaging>=20.0 in /usr/local/lib/python3.10/dist-packages (from transformers[torch]) (23.2)\n",
            "Requirement already satisfied: pyyaml>=5.1 in /usr/local/lib/python3.10/dist-packages (from transformers[torch]) (6.0.1)\n",
            "Requirement already satisfied: regex!=2019.12.17 in /usr/local/lib/python3.10/dist-packages (from transformers[torch]) (2023.6.3)\n",
            "Requirement already satisfied: requests in /usr/local/lib/python3.10/dist-packages (from transformers[torch]) (2.31.0)\n",
            "Requirement already satisfied: tokenizers<0.15,>=0.14 in /usr/local/lib/python3.10/dist-packages (from transformers[torch]) (0.14.1)\n",
            "Requirement already satisfied: safetensors>=0.3.1 in /usr/local/lib/python3.10/dist-packages (from transformers[torch]) (0.4.0)\n",
            "Requirement already satisfied: tqdm>=4.27 in /usr/local/lib/python3.10/dist-packages (from transformers[torch]) (4.66.1)\n",
            "Requirement already satisfied: torch!=1.12.0,>=1.10 in /usr/local/lib/python3.10/dist-packages (from transformers[torch]) (2.1.0+cu118)\n",
            "Requirement already satisfied: accelerate>=0.20.3 in /usr/local/lib/python3.10/dist-packages (from transformers[torch]) (0.24.1)\n",
            "Requirement already satisfied: psutil in /usr/local/lib/python3.10/dist-packages (from accelerate>=0.20.3->transformers[torch]) (5.9.5)\n",
            "Requirement already satisfied: fsspec in /usr/local/lib/python3.10/dist-packages (from huggingface-hub<1.0,>=0.16.4->transformers[torch]) (2023.6.0)\n",
            "Requirement already satisfied: typing-extensions>=3.7.4.3 in /usr/local/lib/python3.10/dist-packages (from huggingface-hub<1.0,>=0.16.4->transformers[torch]) (4.5.0)\n",
            "Requirement already satisfied: sympy in /usr/local/lib/python3.10/dist-packages (from torch!=1.12.0,>=1.10->transformers[torch]) (1.12)\n",
            "Requirement already satisfied: networkx in /usr/local/lib/python3.10/dist-packages (from torch!=1.12.0,>=1.10->transformers[torch]) (3.2.1)\n",
            "Requirement already satisfied: jinja2 in /usr/local/lib/python3.10/dist-packages (from torch!=1.12.0,>=1.10->transformers[torch]) (3.1.2)\n",
            "Requirement already satisfied: triton==2.1.0 in /usr/local/lib/python3.10/dist-packages (from torch!=1.12.0,>=1.10->transformers[torch]) (2.1.0)\n",
            "Requirement already satisfied: charset-normalizer<4,>=2 in /usr/local/lib/python3.10/dist-packages (from requests->transformers[torch]) (3.3.2)\n",
            "Requirement already satisfied: idna<4,>=2.5 in /usr/local/lib/python3.10/dist-packages (from requests->transformers[torch]) (3.4)\n",
            "Requirement already satisfied: urllib3<3,>=1.21.1 in /usr/local/lib/python3.10/dist-packages (from requests->transformers[torch]) (2.0.7)\n",
            "Requirement already satisfied: certifi>=2017.4.17 in /usr/local/lib/python3.10/dist-packages (from requests->transformers[torch]) (2023.7.22)\n",
            "Requirement already satisfied: MarkupSafe>=2.0 in /usr/local/lib/python3.10/dist-packages (from jinja2->torch!=1.12.0,>=1.10->transformers[torch]) (2.1.3)\n",
            "Requirement already satisfied: mpmath>=0.19 in /usr/local/lib/python3.10/dist-packages (from sympy->torch!=1.12.0,>=1.10->transformers[torch]) (1.3.0)\n"
          ]
        }
      ],
      "source": [
        "pip install transformers[torch]"
      ]
    },
    {
      "cell_type": "code",
      "execution_count": 19,
      "metadata": {
        "colab": {
          "base_uri": "https://localhost:8080/"
        },
        "id": "qs1ufbhxi9_W",
        "outputId": "8a52babc-4942-4e83-b478-1d48d0358d89"
      },
      "outputs": [
        {
          "name": "stdout",
          "output_type": "stream",
          "text": [
            "Requirement already satisfied: accelerate in /usr/local/lib/python3.10/dist-packages (0.24.1)\n",
            "Requirement already satisfied: numpy>=1.17 in /usr/local/lib/python3.10/dist-packages (from accelerate) (1.23.5)\n",
            "Requirement already satisfied: packaging>=20.0 in /usr/local/lib/python3.10/dist-packages (from accelerate) (23.2)\n",
            "Requirement already satisfied: psutil in /usr/local/lib/python3.10/dist-packages (from accelerate) (5.9.5)\n",
            "Requirement already satisfied: pyyaml in /usr/local/lib/python3.10/dist-packages (from accelerate) (6.0.1)\n",
            "Requirement already satisfied: torch>=1.10.0 in /usr/local/lib/python3.10/dist-packages (from accelerate) (2.1.0+cu118)\n",
            "Requirement already satisfied: huggingface-hub in /usr/local/lib/python3.10/dist-packages (from accelerate) (0.17.3)\n",
            "Requirement already satisfied: filelock in /usr/local/lib/python3.10/dist-packages (from torch>=1.10.0->accelerate) (3.13.1)\n",
            "Requirement already satisfied: typing-extensions in /usr/local/lib/python3.10/dist-packages (from torch>=1.10.0->accelerate) (4.5.0)\n",
            "Requirement already satisfied: sympy in /usr/local/lib/python3.10/dist-packages (from torch>=1.10.0->accelerate) (1.12)\n",
            "Requirement already satisfied: networkx in /usr/local/lib/python3.10/dist-packages (from torch>=1.10.0->accelerate) (3.2.1)\n",
            "Requirement already satisfied: jinja2 in /usr/local/lib/python3.10/dist-packages (from torch>=1.10.0->accelerate) (3.1.2)\n",
            "Requirement already satisfied: fsspec in /usr/local/lib/python3.10/dist-packages (from torch>=1.10.0->accelerate) (2023.6.0)\n",
            "Requirement already satisfied: triton==2.1.0 in /usr/local/lib/python3.10/dist-packages (from torch>=1.10.0->accelerate) (2.1.0)\n",
            "Requirement already satisfied: requests in /usr/local/lib/python3.10/dist-packages (from huggingface-hub->accelerate) (2.31.0)\n",
            "Requirement already satisfied: tqdm>=4.42.1 in /usr/local/lib/python3.10/dist-packages (from huggingface-hub->accelerate) (4.66.1)\n",
            "Requirement already satisfied: MarkupSafe>=2.0 in /usr/local/lib/python3.10/dist-packages (from jinja2->torch>=1.10.0->accelerate) (2.1.3)\n",
            "Requirement already satisfied: charset-normalizer<4,>=2 in /usr/local/lib/python3.10/dist-packages (from requests->huggingface-hub->accelerate) (3.3.2)\n",
            "Requirement already satisfied: idna<4,>=2.5 in /usr/local/lib/python3.10/dist-packages (from requests->huggingface-hub->accelerate) (3.4)\n",
            "Requirement already satisfied: urllib3<3,>=1.21.1 in /usr/local/lib/python3.10/dist-packages (from requests->huggingface-hub->accelerate) (2.0.7)\n",
            "Requirement already satisfied: certifi>=2017.4.17 in /usr/local/lib/python3.10/dist-packages (from requests->huggingface-hub->accelerate) (2023.7.22)\n",
            "Requirement already satisfied: mpmath>=0.19 in /usr/local/lib/python3.10/dist-packages (from sympy->torch>=1.10.0->accelerate) (1.3.0)\n"
          ]
        }
      ],
      "source": [
        "pip install accelerate -U"
      ]
    },
    {
      "cell_type": "code",
      "execution_count": 20,
      "metadata": {
        "id": "_XkSYKB_JyJE"
      },
      "outputs": [],
      "source": [
        "from transformers import TrainingArguments"
      ]
    },
    {
      "cell_type": "code",
      "execution_count": 21,
      "metadata": {
        "colab": {
          "base_uri": "https://localhost:8080/"
        },
        "id": "KpDvJ4K7oyr_",
        "outputId": "02863220-299a-4f94-df8a-ef0ed19920e4"
      },
      "outputs": [
        {
          "data": {
            "text/plain": [
              "('4.35.1', '0.24.1')"
            ]
          },
          "execution_count": 21,
          "metadata": {},
          "output_type": "execute_result"
        }
      ],
      "source": [
        "import accelerate\n",
        "import transformers\n",
        "\n",
        "transformers.__version__, accelerate.__version__"
      ]
    },
    {
      "cell_type": "markdown",
      "metadata": {
        "id": "8XHf_k0yiL0L"
      },
      "source": [
        "Initialize the TrainingArguments"
      ]
    },
    {
      "cell_type": "code",
      "execution_count": 22,
      "metadata": {
        "id": "fWZhjeepMMWq"
      },
      "outputs": [],
      "source": [
        "training_args = TrainingArguments(\n",
        "    output_dir=\"detr-resnet-50_finetuned_cppe5\",\n",
        "    per_device_train_batch_size=8,\n",
        "    num_train_epochs=200,\n",
        "    fp16=False,\n",
        "    save_steps=200,\n",
        "    logging_steps=50,\n",
        "    learning_rate=1e-4,\n",
        "    weight_decay=1e-4,\n",
        "    save_total_limit=2,\n",
        "    remove_unused_columns=False,\n",
        "    push_to_hub=False,\n",
        ")"
      ]
    },
    {
      "cell_type": "markdown",
      "metadata": {
        "id": "WGrUzfugKHpC"
      },
      "source": [
        "Pass the training arguments to Trainer along with the model, dataset, image processor, and data collator."
      ]
    },
    {
      "cell_type": "code",
      "execution_count": 23,
      "metadata": {
        "colab": {
          "base_uri": "https://localhost:8080/",
          "height": 380
        },
        "id": "YGL4d_9tKK-V",
        "outputId": "61ab5466-8142-406d-9538-2964ab99316e"
      },
      "outputs": [
        {
          "data": {
            "text/html": [
              "\n",
              "    <div>\n",
              "      \n",
              "      <progress value='400' max='400' style='width:300px; height:20px; vertical-align: middle;'></progress>\n",
              "      [400/400 07:41, Epoch 200/200]\n",
              "    </div>\n",
              "    <table border=\"1\" class=\"dataframe\">\n",
              "  <thead>\n",
              " <tr style=\"text-align: left;\">\n",
              "      <th>Step</th>\n",
              "      <th>Training Loss</th>\n",
              "    </tr>\n",
              "  </thead>\n",
              "  <tbody>\n",
              "    <tr>\n",
              "      <td>50</td>\n",
              "      <td>2.135400</td>\n",
              "    </tr>\n",
              "    <tr>\n",
              "      <td>100</td>\n",
              "      <td>1.262700</td>\n",
              "    </tr>\n",
              "    <tr>\n",
              "      <td>150</td>\n",
              "      <td>0.949200</td>\n",
              "    </tr>\n",
              "    <tr>\n",
              "      <td>200</td>\n",
              "      <td>0.661200</td>\n",
              "    </tr>\n",
              "    <tr>\n",
              "      <td>250</td>\n",
              "      <td>0.471900</td>\n",
              "    </tr>\n",
              "    <tr>\n",
              "      <td>300</td>\n",
              "      <td>0.388500</td>\n",
              "    </tr>\n",
              "    <tr>\n",
              "      <td>350</td>\n",
              "      <td>0.333400</td>\n",
              "    </tr>\n",
              "    <tr>\n",
              "      <td>400</td>\n",
              "      <td>0.308600</td>\n",
              "    </tr>\n",
              "  </tbody>\n",
              "</table><p>"
            ],
            "text/plain": [
              "<IPython.core.display.HTML object>"
            ]
          },
          "metadata": {},
          "output_type": "display_data"
        },
        {
          "data": {
            "text/plain": [
              "TrainOutput(global_step=400, training_loss=0.8138840246200562, metrics={'train_runtime': 464.7778, 'train_samples_per_second': 4.733, 'train_steps_per_second': 0.861, 'total_flos': 1.051214300928e+18, 'train_loss': 0.8138840246200562, 'epoch': 200.0})"
            ]
          },
          "execution_count": 23,
          "metadata": {},
          "output_type": "execute_result"
        }
      ],
      "source": [
        "from transformers import Trainer\n",
        "\n",
        "trainer = Trainer(\n",
        "    model=model,\n",
        "    args=training_args,\n",
        "    data_collator=collate_fn,\n",
        "    train_dataset=candy_data[\"train\"],\n",
        "    tokenizer=image_processor,\n",
        ")\n",
        "\n",
        "# Call train() to finetune your model.\n",
        "trainer.train()"
      ]
    },
    {
      "cell_type": "markdown",
      "metadata": {
        "id": "YRpLSqdxAQld"
      },
      "source": [
        "### Save the trainer model"
      ]
    },
    {
      "cell_type": "code",
      "execution_count": 24,
      "metadata": {
        "id": "gJivgT1GAP2m"
      },
      "outputs": [],
      "source": [
        "trainer.save_model('candy_detector')"
      ]
    },
    {
      "cell_type": "markdown",
      "metadata": {
        "id": "lM2CNX0izdQi"
      },
      "source": [
        "#### Evaluate"
      ]
    },
    {
      "cell_type": "markdown",
      "metadata": {
        "id": "is2gca83ej4B"
      },
      "source": [
        "Set up test data set"
      ]
    },
    {
      "cell_type": "code",
      "execution_count": 25,
      "metadata": {
        "id": "tgNUdVh-dh2R"
      },
      "outputs": [],
      "source": [
        "import json\n",
        "import os\n",
        "\n",
        "# format annotations the same as for training, no need for data augmentation\n",
        "def val_formatted_anns(image_id, objects):\n",
        "    annotations = []\n",
        "    for i in range(0, len(objects[\"id\"])):\n",
        "        new_ann = {\n",
        "            \"id\": objects[\"id\"][i],\n",
        "            \"category_id\": objects[\"category\"][i],\n",
        "            \"iscrowd\": 0,\n",
        "            \"image_id\": image_id,\n",
        "            \"area\": objects[\"area\"][i],\n",
        "            \"bbox\": objects[\"bbox\"][i],\n",
        "        }\n",
        "        annotations.append(new_ann)\n",
        "\n",
        "    return annotations\n",
        "\n",
        "\n",
        "# Save images and annotations into the files torchvision.datasets.CocoDetection expects\n",
        "def save_candy_data_annotation_file_images(candy_data):\n",
        "    output_json = {}\n",
        "    path_output_candy_data = f\"{os.getcwd()}/candy_data/\"\n",
        "\n",
        "    if not os.path.exists(path_output_candy_data):\n",
        "        os.makedirs(path_output_candy_data)\n",
        "\n",
        "    path_anno = os.path.join(path_output_candy_data, \"candy_data_ann.json\")\n",
        "    categories_json = [{\"supercategory\": \"none\", \"id\": id, \"name\": id2label[id]} for id in id2label]\n",
        "    output_json[\"images\"] = []\n",
        "    output_json[\"annotations\"] = []\n",
        "    for example in candy_data:\n",
        "        ann = val_formatted_anns(example[\"image_id\"], example[\"objects\"])\n",
        "        output_json[\"images\"].append(\n",
        "            {\n",
        "                \"id\": example[\"image_id\"],\n",
        "                \"width\": example[\"image\"].width,\n",
        "                \"height\": example[\"image\"].height,\n",
        "                \"file_name\": f\"{example['image_id']}.png\",\n",
        "            }\n",
        "        )\n",
        "        output_json[\"annotations\"].extend(ann)\n",
        "    output_json[\"categories\"] = categories_json\n",
        "\n",
        "    with open(path_anno, \"w\") as file:\n",
        "        json.dump(output_json, file, ensure_ascii=False, indent=4)\n",
        "\n",
        "    for im, img_id in zip(candy_data[\"image\"], candy_data[\"image_id\"]):\n",
        "        path_img = os.path.join(path_output_candy_data, f\"{img_id}.png\")\n",
        "        im.save(path_img)\n",
        "\n",
        "    return path_output_candy_data, path_anno"
      ]
    },
    {
      "cell_type": "markdown",
      "metadata": {
        "id": "7Sh71yWmgzla"
      },
      "source": [
        "Prepare an instance of a CocoDetection class that can be used with cocoevaluator."
      ]
    },
    {
      "cell_type": "code",
      "execution_count": 26,
      "metadata": {
        "colab": {
          "base_uri": "https://localhost:8080/"
        },
        "id": "jHQO0eFQgqNs",
        "outputId": "56b1f9d1-795d-41ad-c036-9a1d7c54db93"
      },
      "outputs": [
        {
          "name": "stdout",
          "output_type": "stream",
          "text": [
            "loading annotations into memory...\n",
            "Done (t=0.00s)\n",
            "creating index...\n",
            "index created!\n"
          ]
        }
      ],
      "source": [
        "import torchvision\n",
        "\n",
        "\n",
        "class CocoDetection(torchvision.datasets.CocoDetection):\n",
        "    def __init__(self, img_folder, image_processor, ann_file):\n",
        "        super().__init__(img_folder, ann_file)\n",
        "        self.image_processor = image_processor\n",
        "\n",
        "    def __getitem__(self, idx):\n",
        "        # read in PIL image and target in COCO format\n",
        "        img, target = super(CocoDetection, self).__getitem__(idx)\n",
        "\n",
        "        # preprocess image and target: converting target to DETR format,\n",
        "        # resizing + normalization of both image and target)\n",
        "        image_id = self.ids[idx]\n",
        "        target = {\"image_id\": image_id, \"annotations\": target}\n",
        "        encoding = self.image_processor(images=img, annotations=target, return_tensors=\"pt\")\n",
        "        pixel_values = encoding[\"pixel_values\"].squeeze()  # remove batch dimension\n",
        "        target = encoding[\"labels\"][0]  # remove batch dimension\n",
        "\n",
        "        return {\"pixel_values\": pixel_values, \"labels\": target}\n",
        "\n",
        "\n",
        "im_processor = AutoImageProcessor.from_pretrained(\"candy_detector\")\n",
        "\n",
        "path_output, path_anno = save_candy_data_annotation_file_images(test)\n",
        "test_ds_coco_format = CocoDetection(path_output, im_processor, path_anno)"
      ]
    },
    {
      "cell_type": "markdown",
      "metadata": {
        "id": "AtpM2tl56s1Z"
      },
      "source": [
        "Finally, load the metrics and run the evaluation."
      ]
    },
    {
      "cell_type": "code",
      "execution_count": 27,
      "metadata": {
        "colab": {
          "base_uri": "https://localhost:8080/"
        },
        "id": "mxxQEbu66WEP",
        "outputId": "b5803d92-7105-4812-d2f1-62fa1a87fd84"
      },
      "outputs": [
        {
          "name": "stderr",
          "output_type": "stream",
          "text": [
            "/usr/local/lib/python3.10/dist-packages/torch/utils/data/dataloader.py:557: UserWarning: This DataLoader will create 4 worker processes in total. Our suggested max number of worker in current system is 2, which is smaller than what this DataLoader is going to create. Please be aware that excessive worker creation might get DataLoader running slow or even freeze, lower the worker number to avoid potential slowness/freeze if necessary.\n",
            "  warnings.warn(_create_warning_msg(\n",
            "  0%|          | 0/1 [00:00<?, ?it/s]`post_process` is deprecated and will be removed in v5 of Transformers, please use `post_process_object_detection` instead, with `threshold=0.` for equivalent results.\n",
            "100%|██████████| 1/1 [00:06<00:00,  6.75s/it]"
          ]
        },
        {
          "name": "stdout",
          "output_type": "stream",
          "text": [
            "Accumulating evaluation results...\n",
            "DONE (t=0.07s).\n",
            "IoU metric: bbox\n",
            " Average Precision  (AP) @[ IoU=0.50:0.95 | area=   all | maxDets=100 ] = 0.421\n",
            " Average Precision  (AP) @[ IoU=0.50      | area=   all | maxDets=100 ] = 0.563\n",
            " Average Precision  (AP) @[ IoU=0.75      | area=   all | maxDets=100 ] = 0.563\n",
            " Average Precision  (AP) @[ IoU=0.50:0.95 | area= small | maxDets=100 ] = 0.254\n",
            " Average Precision  (AP) @[ IoU=0.50:0.95 | area=medium | maxDets=100 ] = 0.434\n",
            " Average Precision  (AP) @[ IoU=0.50:0.95 | area= large | maxDets=100 ] = -1.000\n",
            " Average Recall     (AR) @[ IoU=0.50:0.95 | area=   all | maxDets=  1 ] = 0.223\n",
            " Average Recall     (AR) @[ IoU=0.50:0.95 | area=   all | maxDets= 10 ] = 0.425\n",
            " Average Recall     (AR) @[ IoU=0.50:0.95 | area=   all | maxDets=100 ] = 0.425\n",
            " Average Recall     (AR) @[ IoU=0.50:0.95 | area= small | maxDets=100 ] = 0.267\n",
            " Average Recall     (AR) @[ IoU=0.50:0.95 | area=medium | maxDets=100 ] = 0.433\n",
            " Average Recall     (AR) @[ IoU=0.50:0.95 | area= large | maxDets=100 ] = -1.000\n",
            "{'iou_bbox': {'AP-IoU=0.50:0.95-area=all-maxDets=100': 0.4207508250825082, 'AP-IoU=0.50-area=all-maxDets=100': 0.5631188118811881, 'AP-IoU=0.75-area=all-maxDets=100': 0.5631188118811881, 'AP-IoU=0.50:0.95-area=small-maxDets=100': 0.2536853685368537, 'AP-IoU=0.50:0.95-area=medium-maxDets=100': 0.43415841584158416, 'AP-IoU=0.50:0.95-area=large-maxDets=100': -1.0, 'AR-IoU=0.50:0.95-area=all-maxDets=1': 0.22291666666666665, 'AR-IoU=0.50:0.95-area=all-maxDets=10': 0.425, 'AR-IoU=0.50:0.95-area=all-maxDets=100': 0.425, 'AR-IoU=0.50:0.95-area=small-maxDets=100': 0.26666666666666666, 'AR-IoU=0.50:0.95-area=medium-maxDets=100': 0.43333333333333335, 'AR-IoU=0.50:0.95-area=large-maxDets=100': -1.0}}\n"
          ]
        },
        {
          "name": "stderr",
          "output_type": "stream",
          "text": [
            "\n"
          ]
        }
      ],
      "source": [
        "import evaluate\n",
        "from tqdm import tqdm\n",
        "\n",
        "model = AutoModelForObjectDetection.from_pretrained(\"candy_detector\")\n",
        "module = evaluate.load(\"ybelkada/cocoevaluate\", coco=test_ds_coco_format.coco)\n",
        "val_dataloader = torch.utils.data.DataLoader(\n",
        "    test_ds_coco_format, batch_size=8, shuffle=False, num_workers=4, collate_fn=collate_fn\n",
        ")\n",
        "\n",
        "with torch.no_grad():\n",
        "    for idx, batch in enumerate(tqdm(val_dataloader)):\n",
        "        pixel_values = batch[\"pixel_values\"]\n",
        "        pixel_mask = batch[\"pixel_mask\"]\n",
        "\n",
        "        labels = [\n",
        "            {k: v for k, v in t.items()} for t in batch[\"labels\"]\n",
        "        ]  # these are in DETR format, resized + normalized\n",
        "\n",
        "        # forward pass\n",
        "        outputs = model(pixel_values=pixel_values, pixel_mask=pixel_mask)\n",
        "\n",
        "        orig_target_sizes = torch.stack([target[\"orig_size\"] for target in labels], dim=0)\n",
        "        results = im_processor.post_process(outputs, orig_target_sizes)  # convert outputs of model to COCO api\n",
        "\n",
        "        module.add(prediction=results, reference=labels)\n",
        "        del batch\n",
        "\n",
        "results = module.compute()\n",
        "print(results)"
      ]
    },
    {
      "cell_type": "markdown",
      "metadata": {
        "id": "y-KJw9vkz6H5"
      },
      "source": [
        "#### Evaluate the mAP"
      ]
    },
    {
      "cell_type": "code",
      "execution_count": 28,
      "metadata": {
        "colab": {
          "base_uri": "https://localhost:8080/"
        },
        "id": "bpLvUw5gyoV8",
        "outputId": "29501064-57b3-43ec-d487-3dc6d7a2d01c"
      },
      "outputs": [
        {
          "name": "stdout",
          "output_type": "stream",
          "text": [
            "mAP: 0.5156628162816281\n"
          ]
        }
      ],
      "source": [
        "total, count = 0, 0\n",
        "for key, value in results['iou_bbox'].items():\n",
        "    if key.startswith('AP') and key.endswith('area=all-maxDets=100') and value >= 0:\n",
        "        total += value\n",
        "        count += 1\n",
        "\n",
        "mAP = total / count if count > 0 else None\n",
        "\n",
        "print(f'mAP: {mAP}')"
      ]
    },
    {
      "cell_type": "markdown",
      "metadata": {
        "id": "adkSP3rmzLHt"
      },
      "source": [
        "### Object detection"
      ]
    },
    {
      "cell_type": "markdown",
      "metadata": {
        "id": "Bj54JCTczo3e"
      },
      "source": [
        "Count"
      ]
    },
    {
      "cell_type": "code",
      "execution_count": 29,
      "metadata": {
        "id": "lxkCsc1n_nZm"
      },
      "outputs": [],
      "source": [
        "from transformers import pipeline\n",
        "\n",
        "def candy_counter(input_image):\n",
        "    obj_detector = pipeline(\"object-detection\", model='candy_detector')\n",
        "    detections = obj_detector(image, threshold=0.5)\n",
        "\n",
        "    candy_dict = {label: 0 for label in ['Moon', 'Insect', 'Black_star', 'Grey_star', 'Unicorn_whole', 'Unicorn_head', 'Owl', 'Cat']}\n",
        "\n",
        "    for detection in detections:\n",
        "        label = detection['label']\n",
        "        if label in candy_dict:\n",
        "            candy_dict[label] += 1\n",
        "        else:\n",
        "            candy_dict['Unknown'] = candy_dict.get('Unknown', 0) + 1\n",
        "\n",
        "    return candy_dict"
      ]
    },
    {
      "cell_type": "code",
      "execution_count": 30,
      "metadata": {
        "colab": {
          "base_uri": "https://localhost:8080/"
        },
        "id": "v06YiATQxtMb",
        "outputId": "7c6fc86a-0c86-479b-f50a-f08721a60d6a"
      },
      "outputs": [
        {
          "name": "stdout",
          "output_type": "stream",
          "text": [
            "Moon:3\n",
            "Insect:5\n",
            "Black_star:1\n",
            "Grey_star:0\n",
            "Unicorn_whole:4\n",
            "Unicorn_head:0\n",
            "Owl:0\n",
            "Cat:0\n"
          ]
        }
      ],
      "source": [
        "from PIL import Image\n",
        "image_path = \"/cd_10.jpg\"\n",
        "\n",
        "image = Image.open(image_path)\n",
        "candy_counts = candy_counter(image_path)\n",
        "\n",
        "for candy, count in candy_counts.items():\n",
        "  print(f\"{candy}:{count}\")"
      ]
    },
    {
      "cell_type": "code",
      "execution_count": 31,
      "metadata": {
        "colab": {
          "base_uri": "https://localhost:8080/"
        },
        "id": "iOBGmykFzhSd",
        "outputId": "df109d32-f0cf-4b01-ff30-4c8e7c9f5f80"
      },
      "outputs": [
        {
          "data": {
            "text/plain": [
              "[{'score': 0.9559201002120972,\n",
              "  'label': 'Unicorn_whole',\n",
              "  'box': {'xmin': 104, 'ymin': 116, 'xmax': 157, 'ymax': 146}},\n",
              " {'score': 0.5066231489181519,\n",
              "  'label': 'Insect',\n",
              "  'box': {'xmin': 195, 'ymin': 143, 'xmax': 230, 'ymax': 172}},\n",
              " {'score': 0.6430993676185608,\n",
              "  'label': 'Black_star',\n",
              "  'box': {'xmin': 161, 'ymin': 106, 'xmax': 184, 'ymax': 129}},\n",
              " {'score': 0.807697594165802,\n",
              "  'label': 'Unicorn_whole',\n",
              "  'box': {'xmin': 248, 'ymin': 101, 'xmax': 276, 'ymax': 138}},\n",
              " {'score': 0.627581775188446,\n",
              "  'label': 'Insect',\n",
              "  'box': {'xmin': 237, 'ymin': 46, 'xmax': 268, 'ymax': 80}},\n",
              " {'score': 0.8850288391113281,\n",
              "  'label': 'Unicorn_whole',\n",
              "  'box': {'xmin': 113, 'ymin': 11, 'xmax': 152, 'ymax': 39}},\n",
              " {'score': 0.9138752222061157,\n",
              "  'label': 'Insect',\n",
              "  'box': {'xmin': 204, 'ymin': 87, 'xmax': 239, 'ymax': 114}},\n",
              " {'score': 0.8937937021255493,\n",
              "  'label': 'Unicorn_whole',\n",
              "  'box': {'xmin': 176, 'ymin': 5, 'xmax': 207, 'ymax': 51}},\n",
              " {'score': 0.7430304288864136,\n",
              "  'label': 'Insect',\n",
              "  'box': {'xmin': 137, 'ymin': 79, 'xmax': 162, 'ymax': 102}},\n",
              " {'score': 0.6542300581932068,\n",
              "  'label': 'Moon',\n",
              "  'box': {'xmin': 59, 'ymin': 29, 'xmax': 90, 'ymax': 53}},\n",
              " {'score': 0.7282891869544983,\n",
              "  'label': 'Moon',\n",
              "  'box': {'xmin': 34, 'ymin': 112, 'xmax': 66, 'ymax': 140}},\n",
              " {'score': 0.5644566416740417,\n",
              "  'label': 'Insect',\n",
              "  'box': {'xmin': 186, 'ymin': 192, 'xmax': 212, 'ymax': 220}},\n",
              " {'score': 0.9541523456573486,\n",
              "  'label': 'Moon',\n",
              "  'box': {'xmin': 144, 'ymin': 167, 'xmax': 174, 'ymax': 193}}]"
            ]
          },
          "execution_count": 31,
          "metadata": {},
          "output_type": "execute_result"
        }
      ],
      "source": [
        "from transformers import pipeline\n",
        "\n",
        "obj_detector = pipeline(\"object-detection\", model=\"candy_detector\")\n",
        "obj_detector(image, threshold=0.5)"
      ]
    },
    {
      "cell_type": "markdown",
      "metadata": {
        "id": "bre2MYRozD2q"
      },
      "source": [
        "### Candy counter"
      ]
    },
    {
      "cell_type": "code",
      "execution_count": 32,
      "metadata": {
        "id": "pxUzqB4DzCwX"
      },
      "outputs": [],
      "source": [
        "from transformers import pipeline\n",
        "\n",
        "def candy_counter(input_image):\n",
        "    obj_detector = pipeline(\"object-detection\", model='candy_detector')\n",
        "    detections = obj_detector(image, threshold=0.5)\n",
        "\n",
        "    candy_dict = {label: 0 for label in ['Moon', 'Insect', 'Black_star', 'Grey_star', 'Unicorn_whole', 'Unicorn_head', 'Owl', 'Cat']}\n",
        "\n",
        "    for detection in detections:\n",
        "        label = detection['label']\n",
        "        if label in candy_dict:\n",
        "            candy_dict[label] += 1\n",
        "        else:\n",
        "            candy_dict['Unknown'] = candy_dict.get('Unknown', 0) + 1\n",
        "\n",
        "    return candy_dict"
      ]
    },
    {
      "cell_type": "code",
      "execution_count": 33,
      "metadata": {
        "colab": {
          "base_uri": "https://localhost:8080/"
        },
        "id": "dbJcmK8DzIOl",
        "outputId": "b69d9779-eaa5-412c-d15c-387875c59e58"
      },
      "outputs": [
        {
          "data": {
            "text/plain": [
              "{'Moon': 3,\n",
              " 'Insect': 5,\n",
              " 'Black_star': 1,\n",
              " 'Grey_star': 0,\n",
              " 'Unicorn_whole': 4,\n",
              " 'Unicorn_head': 0,\n",
              " 'Owl': 0,\n",
              " 'Cat': 0}"
            ]
          },
          "execution_count": 33,
          "metadata": {},
          "output_type": "execute_result"
        }
      ],
      "source": [
        "candy_counter(image)"
      ]
    },
    {
      "cell_type": "code",
      "execution_count": 34,
      "metadata": {
        "colab": {
          "base_uri": "https://localhost:8080/"
        },
        "id": "cj_7afWpRIl0",
        "outputId": "e297accf-87fd-4e65-c36b-11129cd59311"
      },
      "outputs": [
        {
          "name": "stdout",
          "output_type": "stream",
          "text": [
            "Detected Unicorn_whole with confidence 0.956 at location [104.47, 116.1, 157.06, 146.76]\n",
            "Detected Insect with confidence 0.507 at location [195.79, 143.18, 230.2, 172.98]\n",
            "Detected Black_star with confidence 0.643 at location [161.61, 106.37, 184.15, 129.53]\n",
            "Detected Unicorn_whole with confidence 0.808 at location [248.16, 101.45, 276.59, 138.55]\n",
            "Detected Insect with confidence 0.628 at location [237.19, 46.76, 268.18, 81.0]\n",
            "Detected Unicorn_whole with confidence 0.885 at location [113.5, 11.84, 152.36, 39.54]\n",
            "Detected Insect with confidence 0.914 at location [204.26, 87.14, 239.23, 114.87]\n",
            "Detected Unicorn_whole with confidence 0.894 at location [176.13, 5.18, 207.5, 51.73]\n",
            "Detected Insect with confidence 0.743 at location [137.88, 79.04, 162.86, 102.58]\n",
            "Detected Moon with confidence 0.654 at location [59.28, 29.56, 90.33, 53.21]\n",
            "Detected Moon with confidence 0.728 at location [34.33, 112.75, 66.96, 140.89]\n",
            "Detected Insect with confidence 0.564 at location [186.39, 192.66, 212.24, 220.14]\n",
            "Detected Moon with confidence 0.954 at location [144.17, 167.27, 174.79, 193.06]\n"
          ]
        }
      ],
      "source": [
        "from PIL import Image, ImageDraw\n",
        "\n",
        "from transformers import AutoImageProcessor, AutoModelForObjectDetection\n",
        "import torch\n",
        "image_processor = AutoImageProcessor.from_pretrained(\"candy_detector\")\n",
        "model = AutoModelForObjectDetection.from_pretrained(\"candy_detector\")\n",
        "\n",
        "with torch.no_grad():\n",
        "    inputs = image_processor(images=image, return_tensors=\"pt\")\n",
        "    outputs = model(**inputs)\n",
        "    target_sizes = torch.tensor([image.size[::-1]])\n",
        "    results = image_processor.post_process_object_detection(outputs, threshold=0.5, target_sizes=target_sizes)[0]\n",
        "\n",
        "for score, label, box in zip(results[\"scores\"], results[\"labels\"], results[\"boxes\"]):\n",
        "    box = [round(i, 2) for i in box.tolist()]\n",
        "    print(\n",
        "        f\"Detected {model.config.id2label[label.item()]} with confidence \"\n",
        "        f\"{round(score.item(), 3)} at location {box}\"\n",
        "    )"
      ]
    },
    {
      "cell_type": "code",
      "execution_count": 35,
      "metadata": {
        "colab": {
          "base_uri": "https://localhost:8080/",
          "height": 242
        },
        "id": "Ae1yDI8oyeVh",
        "outputId": "1e83031c-4a5e-4f59-a707-96e1e7ca9574"
      },
      "outputs": [
        {
          "data": {
            "image/png": "[encoded data removed]",
            "text/plain": [
              "<PIL.JpegImagePlugin.JpegImageFile image mode=RGB size=300x225>"
            ]
          },
          "execution_count": 35,
          "metadata": {},
          "output_type": "execute_result"
        }
      ],
      "source": [
        "draw = ImageDraw.Draw(image)\n",
        "\n",
        "for score, label, box in zip(results[\"scores\"], results[\"labels\"], results[\"boxes\"]):\n",
        "    box = [round(i, 2) for i in box.tolist()]\n",
        "    x, y, x2, y2 = tuple(box)\n",
        "    draw.rectangle((x, y, x2, y2), outline=\"red\", width=1)\n",
        "    draw.text((x, y), model.config.id2label[label.item()], fill=\"white\")\n",
        "\n",
        "image"
      ]
    }
  ],
  "metadata": {
    "accelerator": "GPU",
    "colab": {
      "gpuType": "T4",
      "provenance": []
    },
    "kernelspec": {
      "display_name": "Python 3",
      "name": "python3"
    },
    "language_info": {
      "name": "python"
    },
    "widgets": {
      "application/vnd.jupyter.widget-state+json": {
        "204c272ce1c443d391659c603ed9aa7d": {
          "model_module": "@jupyter-widgets/controls",
          "model_module_version": "1.5.0",
          "model_name": "CheckboxModel",
          "state": {
            "_dom_classes": [],
            "_model_module": "@jupyter-widgets/controls",
            "_model_module_version": "1.5.0",
            "_model_name": "CheckboxModel",
            "_view_count": null,
            "_view_module": "@jupyter-widgets/controls",
            "_view_module_version": "1.5.0",
            "_view_name": "CheckboxView",
            "description": "Add token as git credential?",
            "description_tooltip": null,
            "disabled": false,
            "indent": true,
            "layout": "IPY_MODEL_73ab04cffc2947f3940f84d80f241101",
            "style": "IPY_MODEL_a0736d9e60ab4c0f8e9a3a57a6f1cb62",
            "value": true
          }
        },
        "23257099f6534ffcb402a75c82922227": {
          "model_module": "@jupyter-widgets/controls",
          "model_module_version": "1.5.0",
          "model_name": "PasswordModel",
          "state": {
            "_dom_classes": [],
            "_model_module": "@jupyter-widgets/controls",
            "_model_module_version": "1.5.0",
            "_model_name": "PasswordModel",
            "_view_count": null,
            "_view_module": "@jupyter-widgets/controls",
            "_view_module_version": "1.5.0",
            "_view_name": "PasswordView",
            "continuous_update": true,
            "description": "Token:",
            "description_tooltip": null,
            "disabled": false,
            "layout": "IPY_MODEL_a3d98bb961064722b63bdee7b3a1d99e",
            "placeholder": "​",
            "style": "IPY_MODEL_4d2d8d52e32a4650ab515f0c9b8af8d9",
            "value": ""
          }
        },
        "3aa24ef8a1e044dbbc1ecb1d1d00fa89": {
          "model_module": "@jupyter-widgets/base",
          "model_module_version": "1.2.0",
          "model_name": "LayoutModel",
          "state": {
            "_model_module": "@jupyter-widgets/base",
            "_model_module_version": "1.2.0",
            "_model_name": "LayoutModel",
            "_view_count": null,
            "_view_module": "@jupyter-widgets/base",
            "_view_module_version": "1.2.0",
            "_view_name": "LayoutView",
            "align_content": null,
            "align_items": "center",
            "align_self": null,
            "border": null,
            "bottom": null,
            "display": "flex",
            "flex": null,
            "flex_flow": "column",
            "grid_area": null,
            "grid_auto_columns": null,
            "grid_auto_flow": null,
            "grid_auto_rows": null,
            "grid_column": null,
            "grid_gap": null,
            "grid_row": null,
            "grid_template_areas": null,
            "grid_template_columns": null,
            "grid_template_rows": null,
            "height": null,
            "justify_content": null,
            "justify_items": null,
            "left": null,
            "margin": null,
            "max_height": null,
            "max_width": null,
            "min_height": null,
            "min_width": null,
            "object_fit": null,
            "object_position": null,
            "order": null,
            "overflow": null,
            "overflow_x": null,
            "overflow_y": null,
            "padding": null,
            "right": null,
            "top": null,
            "visibility": null,
            "width": "50%"
          }
        },
        "3e9165bfd1524b21a683eaefe332fe8a": {
          "model_module": "@jupyter-widgets/controls",
          "model_module_version": "1.5.0",
          "model_name": "HTMLModel",
          "state": {
            "_dom_classes": [],
            "_model_module": "@jupyter-widgets/controls",
            "_model_module_version": "1.5.0",
            "_model_name": "HTMLModel",
            "_view_count": null,
            "_view_module": "@jupyter-widgets/controls",
            "_view_module_version": "1.5.0",
            "_view_name": "HTMLView",
            "description": "",
            "description_tooltip": null,
            "layout": "IPY_MODEL_7264347503da479280e1e9f42aca78b7",
            "placeholder": "​",
            "style": "IPY_MODEL_5ad120fcbdc0475c9219520078528d66",
            "value": "<center> <img\nsrc=https://huggingface.co/front/assets/huggingface_logo-noborder.svg\nalt='Hugging Face'> <br> Copy a token from <a\nhref=\"https://huggingface.co/settings/tokens\" target=\"_blank\">your Hugging Face\ntokens page</a> and paste it below. <br> Immediately click login after copying\nyour token or it might be stored in plain text in this notebook file. </center>"
          }
        },
        "408d867ea38d417f942a96fd2226c9d7": {
          "model_module": "@jupyter-widgets/controls",
          "model_module_version": "1.5.0",
          "model_name": "ButtonStyleModel",
          "state": {
            "_model_module": "@jupyter-widgets/controls",
            "_model_module_version": "1.5.0",
            "_model_name": "ButtonStyleModel",
            "_view_count": null,
            "_view_module": "@jupyter-widgets/base",
            "_view_module_version": "1.2.0",
            "_view_name": "StyleView",
            "button_color": null,
            "font_weight": ""
          }
        },
        "473cded8f56b41fda1453a6982cdfebb": {
          "model_module": "@jupyter-widgets/base",
          "model_module_version": "1.2.0",
          "model_name": "LayoutModel",
          "state": {
            "_model_module": "@jupyter-widgets/base",
            "_model_module_version": "1.2.0",
            "_model_name": "LayoutModel",
            "_view_count": null,
            "_view_module": "@jupyter-widgets/base",
            "_view_module_version": "1.2.0",
            "_view_name": "LayoutView",
            "align_content": null,
            "align_items": null,
            "align_self": null,
            "border": null,
            "bottom": null,
            "display": null,
            "flex": null,
            "flex_flow": null,
            "grid_area": null,
            "grid_auto_columns": null,
            "grid_auto_flow": null,
            "grid_auto_rows": null,
            "grid_column": null,
            "grid_gap": null,
            "grid_row": null,
            "grid_template_areas": null,
            "grid_template_columns": null,
            "grid_template_rows": null,
            "height": null,
            "justify_content": null,
            "justify_items": null,
            "left": null,
            "margin": null,
            "max_height": null,
            "max_width": null,
            "min_height": null,
            "min_width": null,
            "object_fit": null,
            "object_position": null,
            "order": null,
            "overflow": null,
            "overflow_x": null,
            "overflow_y": null,
            "padding": null,
            "right": null,
            "top": null,
            "visibility": null,
            "width": null
          }
        },
        "4d2d8d52e32a4650ab515f0c9b8af8d9": {
          "model_module": "@jupyter-widgets/controls",
          "model_module_version": "1.5.0",
          "model_name": "DescriptionStyleModel",
          "state": {
            "_model_module": "@jupyter-widgets/controls",
            "_model_module_version": "1.5.0",
            "_model_name": "DescriptionStyleModel",
            "_view_count": null,
            "_view_module": "@jupyter-widgets/base",
            "_view_module_version": "1.2.0",
            "_view_name": "StyleView",
            "description_width": ""
          }
        },
        "5ad120fcbdc0475c9219520078528d66": {
          "model_module": "@jupyter-widgets/controls",
          "model_module_version": "1.5.0",
          "model_name": "DescriptionStyleModel",
          "state": {
            "_model_module": "@jupyter-widgets/controls",
            "_model_module_version": "1.5.0",
            "_model_name": "DescriptionStyleModel",
            "_view_count": null,
            "_view_module": "@jupyter-widgets/base",
            "_view_module_version": "1.2.0",
            "_view_name": "StyleView",
            "description_width": ""
          }
        },
        "7264347503da479280e1e9f42aca78b7": {
          "model_module": "@jupyter-widgets/base",
          "model_module_version": "1.2.0",
          "model_name": "LayoutModel",
          "state": {
            "_model_module": "@jupyter-widgets/base",
            "_model_module_version": "1.2.0",
            "_model_name": "LayoutModel",
            "_view_count": null,
            "_view_module": "@jupyter-widgets/base",
            "_view_module_version": "1.2.0",
            "_view_name": "LayoutView",
            "align_content": null,
            "align_items": null,
            "align_self": null,
            "border": null,
            "bottom": null,
            "display": null,
            "flex": null,
            "flex_flow": null,
            "grid_area": null,
            "grid_auto_columns": null,
            "grid_auto_flow": null,
            "grid_auto_rows": null,
            "grid_column": null,
            "grid_gap": null,
            "grid_row": null,
            "grid_template_areas": null,
            "grid_template_columns": null,
            "grid_template_rows": null,
            "height": null,
            "justify_content": null,
            "justify_items": null,
            "left": null,
            "margin": null,
            "max_height": null,
            "max_width": null,
            "min_height": null,
            "min_width": null,
            "object_fit": null,
            "object_position": null,
            "order": null,
            "overflow": null,
            "overflow_x": null,
            "overflow_y": null,
            "padding": null,
            "right": null,
            "top": null,
            "visibility": null,
            "width": null
          }
        },
        "73ab04cffc2947f3940f84d80f241101": {
          "model_module": "@jupyter-widgets/base",
          "model_module_version": "1.2.0",
          "model_name": "LayoutModel",
          "state": {
            "_model_module": "@jupyter-widgets/base",
            "_model_module_version": "1.2.0",
            "_model_name": "LayoutModel",
            "_view_count": null,
            "_view_module": "@jupyter-widgets/base",
            "_view_module_version": "1.2.0",
            "_view_name": "LayoutView",
            "align_content": null,
            "align_items": null,
            "align_self": null,
            "border": null,
            "bottom": null,
            "display": null,
            "flex": null,
            "flex_flow": null,
            "grid_area": null,
            "grid_auto_columns": null,
            "grid_auto_flow": null,
            "grid_auto_rows": null,
            "grid_column": null,
            "grid_gap": null,
            "grid_row": null,
            "grid_template_areas": null,
            "grid_template_columns": null,
            "grid_template_rows": null,
            "height": null,
            "justify_content": null,
            "justify_items": null,
            "left": null,
            "margin": null,
            "max_height": null,
            "max_width": null,
            "min_height": null,
            "min_width": null,
            "object_fit": null,
            "object_position": null,
            "order": null,
            "overflow": null,
            "overflow_x": null,
            "overflow_y": null,
            "padding": null,
            "right": null,
            "top": null,
            "visibility": null,
            "width": null
          }
        },
        "9c24f0f667e5446b90bba9675c93393f": {
          "model_module": "@jupyter-widgets/controls",
          "model_module_version": "1.5.0",
          "model_name": "ButtonModel",
          "state": {
            "_dom_classes": [],
            "_model_module": "@jupyter-widgets/controls",
            "_model_module_version": "1.5.0",
            "_model_name": "ButtonModel",
            "_view_count": null,
            "_view_module": "@jupyter-widgets/controls",
            "_view_module_version": "1.5.0",
            "_view_name": "ButtonView",
            "button_style": "",
            "description": "Login",
            "disabled": false,
            "icon": "",
            "layout": "IPY_MODEL_473cded8f56b41fda1453a6982cdfebb",
            "style": "IPY_MODEL_408d867ea38d417f942a96fd2226c9d7",
            "tooltip": ""
          }
        },
        "a0736d9e60ab4c0f8e9a3a57a6f1cb62": {
          "model_module": "@jupyter-widgets/controls",
          "model_module_version": "1.5.0",
          "model_name": "DescriptionStyleModel",
          "state": {
            "_model_module": "@jupyter-widgets/controls",
            "_model_module_version": "1.5.0",
            "_model_name": "DescriptionStyleModel",
            "_view_count": null,
            "_view_module": "@jupyter-widgets/base",
            "_view_module_version": "1.2.0",
            "_view_name": "StyleView",
            "description_width": ""
          }
        },
        "a3d98bb961064722b63bdee7b3a1d99e": {
          "model_module": "@jupyter-widgets/base",
          "model_module_version": "1.2.0",
          "model_name": "LayoutModel",
          "state": {
            "_model_module": "@jupyter-widgets/base",
            "_model_module_version": "1.2.0",
            "_model_name": "LayoutModel",
            "_view_count": null,
            "_view_module": "@jupyter-widgets/base",
            "_view_module_version": "1.2.0",
            "_view_name": "LayoutView",
            "align_content": null,
            "align_items": null,
            "align_self": null,
            "border": null,
            "bottom": null,
            "display": null,
            "flex": null,
            "flex_flow": null,
            "grid_area": null,
            "grid_auto_columns": null,
            "grid_auto_flow": null,
            "grid_auto_rows": null,
            "grid_column": null,
            "grid_gap": null,
            "grid_row": null,
            "grid_template_areas": null,
            "grid_template_columns": null,
            "grid_template_rows": null,
            "height": null,
            "justify_content": null,
            "justify_items": null,
            "left": null,
            "margin": null,
            "max_height": null,
            "max_width": null,
            "min_height": null,
            "min_width": null,
            "object_fit": null,
            "object_position": null,
            "order": null,
            "overflow": null,
            "overflow_x": null,
            "overflow_y": null,
            "padding": null,
            "right": null,
            "top": null,
            "visibility": null,
            "width": null
          }
        },
        "aea9b9e56b2346f48b7e17a401a9485f": {
          "model_module": "@jupyter-widgets/controls",
          "model_module_version": "1.5.0",
          "model_name": "DescriptionStyleModel",
          "state": {
            "_model_module": "@jupyter-widgets/controls",
            "_model_module_version": "1.5.0",
            "_model_name": "DescriptionStyleModel",
            "_view_count": null,
            "_view_module": "@jupyter-widgets/base",
            "_view_module_version": "1.2.0",
            "_view_name": "StyleView",
            "description_width": ""
          }
        },
        "b9c132f72faf4bcab06e9f8311d3949b": {
          "model_module": "@jupyter-widgets/base",
          "model_module_version": "1.2.0",
          "model_name": "LayoutModel",
          "state": {
            "_model_module": "@jupyter-widgets/base",
            "_model_module_version": "1.2.0",
            "_model_name": "LayoutModel",
            "_view_count": null,
            "_view_module": "@jupyter-widgets/base",
            "_view_module_version": "1.2.0",
            "_view_name": "LayoutView",
            "align_content": null,
            "align_items": null,
            "align_self": null,
            "border": null,
            "bottom": null,
            "display": null,
            "flex": null,
            "flex_flow": null,
            "grid_area": null,
            "grid_auto_columns": null,
            "grid_auto_flow": null,
            "grid_auto_rows": null,
            "grid_column": null,
            "grid_gap": null,
            "grid_row": null,
            "grid_template_areas": null,
            "grid_template_columns": null,
            "grid_template_rows": null,
            "height": null,
            "justify_content": null,
            "justify_items": null,
            "left": null,
            "margin": null,
            "max_height": null,
            "max_width": null,
            "min_height": null,
            "min_width": null,
            "object_fit": null,
            "object_position": null,
            "order": null,
            "overflow": null,
            "overflow_x": null,
            "overflow_y": null,
            "padding": null,
            "right": null,
            "top": null,
            "visibility": null,
            "width": null
          }
        },
        "bb4bb0749988404da5ddd2e7007d7e08": {
          "model_module": "@jupyter-widgets/controls",
          "model_module_version": "1.5.0",
          "model_name": "HTMLModel",
          "state": {
            "_dom_classes": [],
            "_model_module": "@jupyter-widgets/controls",
            "_model_module_version": "1.5.0",
            "_model_name": "HTMLModel",
            "_view_count": null,
            "_view_module": "@jupyter-widgets/controls",
            "_view_module_version": "1.5.0",
            "_view_name": "HTMLView",
            "description": "",
            "description_tooltip": null,
            "layout": "IPY_MODEL_b9c132f72faf4bcab06e9f8311d3949b",
            "placeholder": "​",
            "style": "IPY_MODEL_aea9b9e56b2346f48b7e17a401a9485f",
            "value": "\n<b>Pro Tip:</b> If you don't already have one, you can create a dedicated\n'notebooks' token with 'write' access, that you can then easily reuse for all\nnotebooks. </center>"
          }
        },
        "fdad067b54424ef19185baf7cd3e67da": {
          "model_module": "@jupyter-widgets/controls",
          "model_module_version": "1.5.0",
          "model_name": "VBoxModel",
          "state": {
            "_dom_classes": [],
            "_model_module": "@jupyter-widgets/controls",
            "_model_module_version": "1.5.0",
            "_model_name": "VBoxModel",
            "_view_count": null,
            "_view_module": "@jupyter-widgets/controls",
            "_view_module_version": "1.5.0",
            "_view_name": "VBoxView",
            "box_style": "",
            "children": [
              "IPY_MODEL_3e9165bfd1524b21a683eaefe332fe8a",
              "IPY_MODEL_23257099f6534ffcb402a75c82922227",
              "IPY_MODEL_204c272ce1c443d391659c603ed9aa7d",
              "IPY_MODEL_9c24f0f667e5446b90bba9675c93393f",
              "IPY_MODEL_bb4bb0749988404da5ddd2e7007d7e08"
            ],
            "layout": "IPY_MODEL_3aa24ef8a1e044dbbc1ecb1d1d00fa89"
          }
        }
      }
    }
  },
  "nbformat": 4,
  "nbformat_minor": 0
}
